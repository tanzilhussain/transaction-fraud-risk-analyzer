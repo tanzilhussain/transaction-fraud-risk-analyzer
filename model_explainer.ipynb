{
 "cells": [
  {
   "cell_type": "code",
   "execution_count": 5,
   "id": "9857e867",
   "metadata": {},
   "outputs": [],
   "source": [
    "import shap\n",
    "import joblib\n",
    "from archive.explore_data import load_data\n",
    "import numpy as np\n",
    "from sklearn.model_selection import train_test_split"
   ]
  },
  {
   "cell_type": "code",
   "execution_count": null,
   "id": "026ddfcd",
   "metadata": {},
   "outputs": [],
   "source": [
    "# loading model, encoder, & data\n",
    "model = joblib.load(\"xgb_fraud_model.pkl\")\n",
    "le = joblib.load(\"label_encoder.pkl\")\n",
    "df = load_data()\n",
    "df['encoded_type'] = le.fit_transform(df['type'])\n",
    "\n",
    "# features included in model\n",
    "features = ['step', 'amount', 'log_amount', 'oldbalanceOrg', 'newbalanceOrig','oldbalanceDest', 'newbalanceDest', 'encoded_type']\n",
    "X = df[features]\n",
    "y = df['isFraud']\n",
    "X_train, X_test, y_train, y_test = train_test_split(X, y, stratify=y, test_size=.2, random_state=42)"
   ]
  },
  {
   "cell_type": "code",
   "execution_count": 3,
   "id": "5ea4f888",
   "metadata": {},
   "outputs": [],
   "source": [
    "# initialize shap explainer\n",
    "explainer = shap.Explainer(model)\n",
    "shap_values = explainer(X)"
   ]
  },
  {
   "cell_type": "code",
   "execution_count": null,
   "id": "03bb0abe",
   "metadata": {},
   "outputs": [],
   "source": [
    "# save shap values: how much each feature pushed the prediction up/dowm compared to the avg prediction\n",
    "# positive shap: pushes prediction towards fraud\n",
    "# pushes prediction towards not fraud\n",
    "np.save('shap_values.npy', shap_values.values)\n",
    "np.save('shap_base.npy', shap_values.base_values)\n",
    "X.to_csv('shap_input.csv', index=False)"
   ]
  },
  {
   "cell_type": "code",
   "execution_count": null,
   "id": "3ccfa02b",
   "metadata": {},
   "outputs": [],
   "source": [
    "# shap summary plot\n",
    "shap.summary_plot(shap_values)"
   ]
  }
 ],
 "metadata": {
  "kernelspec": {
   "display_name": "venv",
   "language": "python",
   "name": "python3"
  },
  "language_info": {
   "codemirror_mode": {
    "name": "ipython",
    "version": 3
   },
   "file_extension": ".py",
   "mimetype": "text/x-python",
   "name": "python",
   "nbconvert_exporter": "python",
   "pygments_lexer": "ipython3",
   "version": "3.13.4"
  }
 },
 "nbformat": 4,
 "nbformat_minor": 5
}
